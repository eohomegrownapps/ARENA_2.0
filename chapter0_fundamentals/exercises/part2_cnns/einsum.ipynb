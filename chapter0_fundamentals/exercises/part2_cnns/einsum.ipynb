{
 "cells": [
  {
   "cell_type": "code",
   "execution_count": 5,
   "metadata": {},
   "outputs": [],
   "source": [
    "import torch"
   ]
  },
  {
   "cell_type": "code",
   "execution_count": 9,
   "metadata": {},
   "outputs": [
    {
     "data": {
      "text/plain": [
       "tensor([[0.1400, 0.6665, 0.0539, 0.5414, 0.8002],\n",
       "        [0.6642, 0.3279, 0.1913, 0.4999, 0.8176],\n",
       "        [0.4803, 0.4326, 0.6368, 0.9767, 0.6980]])"
      ]
     },
     "execution_count": 9,
     "metadata": {},
     "output_type": "execute_result"
    }
   ],
   "source": [
    "t = torch.rand((3,5))\n",
    "t"
   ]
  },
  {
   "cell_type": "code",
   "execution_count": 22,
   "metadata": {},
   "outputs": [
    {
     "name": "stdout",
     "output_type": "stream",
     "text": [
      "All tests in `test_einsum_trace` passed!\n",
      "All tests in `test_einsum_mv` passed!\n",
      "All tests in `test_einsum_mm` passed!\n",
      "All tests in `test_einsum_inner` passed!\n",
      "All tests in `test_einsum_outer` passed!\n"
     ]
    }
   ],
   "source": [
    "import tests\n",
    "import numpy as np\n",
    "from einops import einsum\n",
    "\n",
    "def einsum_trace(mat: np.ndarray):\n",
    "    '''\n",
    "    Returns the same as `np.trace`.\n",
    "    '''\n",
    "    return einsum(mat, \"i i ->\")\n",
    "\n",
    "def einsum_mv(mat: np.ndarray, vec: np.ndarray):\n",
    "    '''\n",
    "    Returns the same as `np.matmul`, when `mat` is a 2D array and `vec` is 1D.\n",
    "    '''\n",
    "    return einsum(mat, vec, \"i j, j -> i\")\n",
    "\n",
    "def einsum_mm(mat1: np.ndarray, mat2: np.ndarray):\n",
    "    '''\n",
    "    Returns the same as `np.matmul`, when `mat1` and `mat2` are both 2D arrays.\n",
    "    '''\n",
    "    return einsum(mat1, mat2, \"i j, j k -> i k\")\n",
    "\n",
    "def einsum_inner(vec1: np.ndarray, vec2: np.ndarray):\n",
    "    '''\n",
    "    Returns the same as `np.inner`.\n",
    "    '''\n",
    "    return einsum(vec1, vec2, \"i, i ->\")\n",
    "\n",
    "def einsum_outer(vec1: np.ndarray, vec2: np.ndarray):\n",
    "    '''\n",
    "    Returns the same as `np.outer`.\n",
    "    '''\n",
    "    return einsum(vec1, vec2, \"i, j -> i j\")\n",
    "\n",
    "\n",
    "tests.test_einsum_trace(einsum_trace)\n",
    "tests.test_einsum_mv(einsum_mv)\n",
    "tests.test_einsum_mm(einsum_mm)\n",
    "tests.test_einsum_inner(einsum_inner)\n",
    "tests.test_einsum_outer(einsum_outer)"
   ]
  }
 ],
 "metadata": {
  "kernelspec": {
   "display_name": ".arena-venv",
   "language": "python",
   "name": "python3"
  },
  "language_info": {
   "codemirror_mode": {
    "name": "ipython",
    "version": 3
   },
   "file_extension": ".py",
   "mimetype": "text/x-python",
   "name": "python",
   "nbconvert_exporter": "python",
   "pygments_lexer": "ipython3",
   "version": "3.8.2"
  },
  "orig_nbformat": 4
 },
 "nbformat": 4,
 "nbformat_minor": 2
}
